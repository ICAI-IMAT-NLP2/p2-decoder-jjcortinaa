{
 "cells": [
  {
   "cell_type": "markdown",
   "metadata": {},
   "source": [
    "# Laboratory Practice 2: Generating names with a decoder-only transformer\n",
    "\n",
    "In this notebook, we will generate new names using a Transformer decoder model. This simple text generation task captures the essential components of language modeling, applied to a small, manageable dataset.\n",
    "\n",
    "More specifically, you will be training autoregressive, character-level, decoder-only language model. You will feed it a database of names, and the model will generate new name ideas that all sound name-like, but are not already existing names. \n",
    "\n",
    "First, you'll train the model. After training, you'll generate names using pure random sampling as your decoding strategy. Pure random sampling doesn't always work well, so you'll also learn to tweak the temperature parameter when sampling, to better control your generation output."
   ]
  },
  {
   "cell_type": "code",
   "execution_count": 45,
   "metadata": {},
   "outputs": [],
   "source": [
    "# Import libraries\n",
    "import torch\n",
    "import torch.nn.functional as F\n",
    "from torch.utils.data import DataLoader, random_split\n",
    "import os\n",
    "\n",
    "import sys\n",
    "sys.path.append('../src')\n",
    "\n",
    "# Import the data processing and model modules\n",
    "from data_processing import load_and_preprocess_data, CharTokenizer, NameDataset, collate_fn\n",
    "from train import train \n",
    "\n",
    "# Define the device\n",
    "device = torch.device(\"cpu \")# torch.device(\"cuda\" if torch.cuda.is_available() else \"cpu\")\n"
   ]
  },
  {
   "cell_type": "markdown",
   "metadata": {},
   "source": [
    "#### Exploratory Data Analysis\n",
    "\n",
    "In this section, you will take a look at the data. You should be familiar with it, but it is used a little different now that we are training a decoder model. Play with it and answer the questions at the end!"
   ]
  },
  {
   "cell_type": "code",
   "execution_count": 46,
   "metadata": {},
   "outputs": [
    {
     "name": "stdout",
     "output_type": "stream",
     "text": [
      "Loading and preprocessing data...\n",
      "First 10 names: ['-maria carmen.', '-antonio.', '-maria.', '-manuel.', '-jose.']\n"
     ]
    }
   ],
   "source": [
    "data_filepath = \"../data/nombres_raw.txt\"  # Replace with your actual file path\n",
    "alphabet = \"abcdefghijklmnopqrstuvwxyz \"\n",
    "start_token = \"-\"\n",
    "end_token = \".\"\n",
    "batch_size = 64\n",
    "\n",
    "# Load and preprocess data\n",
    "print(\"Loading and preprocessing data...\")\n",
    "names = load_and_preprocess_data(data_filepath, alphabet, start_token, end_token)\n",
    "print(\"First 10 names:\", names[:5])"
   ]
  },
  {
   "cell_type": "code",
   "execution_count": 47,
   "metadata": {},
   "outputs": [
    {
     "name": "stdout",
     "output_type": "stream",
     "text": [
      "Encoding names...\n",
      "First 10 encoded names: [[1, 16, 4, 21, 12, 4, 3, 6, 4, 21, 16, 8, 17, 2], [1, 4, 17, 23, 18, 17, 12, 18, 2], [1, 16, 4, 21, 12, 4, 2], [1, 16, 4, 17, 24, 8, 15, 2], [1, 13, 18, 22, 8, 2]]\n",
      "[1, 13, 18, 22, 8, 3, 13, 24, 4, 17, 2]\n"
     ]
    }
   ],
   "source": [
    "# Initialize tokenizer\n",
    "tokenizer = CharTokenizer(alphabet, start_token=start_token, end_token=end_token)\n",
    "\n",
    "# Encode names\n",
    "print(\"Encoding names...\")\n",
    "encoded_names = [tokenizer.encode(name) for name in names]\n",
    "print(\"First 10 encoded names:\", encoded_names[:5])\n",
    "\n",
    "name = \"-jose juan.\"\n",
    "print(tokenizer.encode(name))\n"
   ]
  },
  {
   "cell_type": "markdown",
   "metadata": {},
   "source": [
    "- Use the ```CharTokenizer``` to encode your name. What is the result of encoding your name?\n",
    ">>> José Juan\n",
    "\n",
    ">>> [1, 13, 18, 22, 8, 3, 13, 24, 4, 17, 2]"
   ]
  },
  {
   "cell_type": "markdown",
   "metadata": {},
   "source": []
  },
  {
   "cell_type": "code",
   "execution_count": 48,
   "metadata": {},
   "outputs": [
    {
     "name": "stdout",
     "output_type": "stream",
     "text": [
      "First item in batch:\n",
      "Input: tensor([ 1, 12, 18, 17,  3, 10, 24, 21, 24, 23, 29,  0,  0,  0,  0,  0,  0,  0,\n",
      "         0,  0,  0])\n",
      "Target: tensor([12, 18, 17,  3, 10, 24, 21, 24, 23, 29,  2,  0,  0,  0,  0,  0,  0,  0,\n",
      "         0,  0,  0])\n"
     ]
    }
   ],
   "source": [
    "# Create dataset\n",
    "dataset = NameDataset(encoded_names)\n",
    "\n",
    "# Create data loader\n",
    "data_loader = DataLoader(dataset, batch_size=batch_size, shuffle=True, collate_fn=collate_fn)\n",
    "\n",
    "# Obtain a batch from data loader\n",
    "batch = next(iter(data_loader))\n",
    "\n",
    "# Let´s check one item from batch\n",
    "print(\"First item in batch:\")\n",
    "print(\"Input:\", batch[0][0])\n",
    "print(\"Target:\", batch[1][0])"
   ]
  },
  {
   "cell_type": "markdown",
   "metadata": {},
   "source": [
    "- How can you obtain the target tensor from the input? Does this make sense for an autorregressive prediction such as the one of the Decoder-only model?\n",
    ">>> El tensor de target se obtiene desplazando el tensor input una posición hacia la izquierda. Tiene sentido ya que en modelos autoregresivos se entrena al modelo para predecir el siguiente token dada una secuencia de tokens anteriores.\n",
    "\n",
    "- What is the tensor value for the start token? And for the end token? And for the padding token?\n",
    ">>> start token = 1\n",
    "end token = 2\n",
    "padding = 0 al final"
   ]
  },
  {
   "cell_type": "markdown",
   "metadata": {},
   "source": [
    "#### Train model and tokenizer\n",
    "Here you will train the decoder model. Feel free to change the hyperparameters of the model in the ```model_params``` dictionary. Be careful with your computational resources!"
   ]
  },
  {
   "cell_type": "code",
   "execution_count": 49,
   "metadata": {},
   "outputs": [
    {
     "name": "stdout",
     "output_type": "stream",
     "text": [
      "Initializing model...\n",
      "Starting training...\n",
      "Epoch [1/50], Training Loss: 3.7389\n",
      "Epoch [1/50], Validation Loss: 2.8302\n",
      "Epoch [2/50], Training Loss: 2.4983\n",
      "Epoch [2/50], Validation Loss: 2.4469\n",
      "Epoch [3/50], Training Loss: 2.3280\n",
      "Epoch [3/50], Validation Loss: 2.4098\n",
      "Epoch [4/50], Training Loss: 2.2308\n",
      "Epoch [4/50], Validation Loss: 2.3857\n",
      "Epoch [5/50], Training Loss: 2.1616\n",
      "Epoch [5/50], Validation Loss: 2.2384\n",
      "Epoch [6/50], Training Loss: 2.0875\n",
      "Epoch [6/50], Validation Loss: 2.0922\n",
      "Epoch [7/50], Training Loss: 1.9944\n",
      "Epoch [7/50], Validation Loss: 1.9779\n",
      "Epoch [8/50], Training Loss: 1.8928\n",
      "Epoch [8/50], Validation Loss: 1.8911\n",
      "Epoch [9/50], Training Loss: 1.7965\n",
      "Epoch [9/50], Validation Loss: 1.7801\n",
      "Epoch [10/50], Training Loss: 1.7145\n",
      "Epoch [10/50], Validation Loss: 1.7071\n",
      "Epoch [11/50], Training Loss: 1.6458\n",
      "Epoch [11/50], Validation Loss: 1.6488\n",
      "Epoch [12/50], Training Loss: 1.5882\n",
      "Epoch [12/50], Validation Loss: 1.6115\n",
      "Epoch [13/50], Training Loss: 1.5431\n",
      "Epoch [13/50], Validation Loss: 1.5584\n",
      "Epoch [14/50], Training Loss: 1.5101\n",
      "Epoch [14/50], Validation Loss: 1.5283\n",
      "Epoch [15/50], Training Loss: 1.4766\n",
      "Epoch [15/50], Validation Loss: 1.5147\n",
      "Epoch [16/50], Training Loss: 1.4531\n",
      "Epoch [16/50], Validation Loss: 1.4896\n",
      "Epoch [17/50], Training Loss: 1.4302\n",
      "Epoch [17/50], Validation Loss: 1.4549\n",
      "Epoch [18/50], Training Loss: 1.4104\n",
      "Epoch [18/50], Validation Loss: 1.4439\n",
      "Epoch [19/50], Training Loss: 1.3932\n",
      "Epoch [19/50], Validation Loss: 1.4377\n",
      "Epoch [20/50], Training Loss: 1.3776\n",
      "Epoch [20/50], Validation Loss: 1.4099\n",
      "Epoch [21/50], Training Loss: 1.3644\n",
      "Epoch [21/50], Validation Loss: 1.4054\n",
      "Epoch [22/50], Training Loss: 1.3522\n",
      "Epoch [22/50], Validation Loss: 1.3974\n",
      "Epoch [23/50], Training Loss: 1.3406\n",
      "Epoch [23/50], Validation Loss: 1.3852\n",
      "Epoch [24/50], Training Loss: 1.3297\n",
      "Epoch [24/50], Validation Loss: 1.3753\n",
      "Epoch [25/50], Training Loss: 1.3193\n",
      "Epoch [25/50], Validation Loss: 1.3717\n",
      "Epoch [26/50], Training Loss: 1.3124\n",
      "Epoch [26/50], Validation Loss: 1.3650\n",
      "Epoch [27/50], Training Loss: 1.3033\n",
      "Epoch [27/50], Validation Loss: 1.3560\n",
      "Epoch [28/50], Training Loss: 1.2935\n",
      "Epoch [28/50], Validation Loss: 1.3479\n",
      "Epoch [29/50], Training Loss: 1.2887\n",
      "Epoch [29/50], Validation Loss: 1.3499\n",
      "Epoch [30/50], Training Loss: 1.2814\n",
      "Epoch [30/50], Validation Loss: 1.3407\n",
      "Epoch [31/50], Training Loss: 1.2749\n",
      "Epoch [31/50], Validation Loss: 1.3360\n",
      "Epoch [32/50], Training Loss: 1.2696\n",
      "Epoch [32/50], Validation Loss: 1.3366\n",
      "Epoch [33/50], Training Loss: 1.2638\n",
      "Epoch [33/50], Validation Loss: 1.3252\n",
      "Epoch [34/50], Training Loss: 1.2584\n",
      "Epoch [34/50], Validation Loss: 1.3170\n",
      "Epoch [35/50], Training Loss: 1.2510\n",
      "Epoch [35/50], Validation Loss: 1.3247\n",
      "Epoch [36/50], Training Loss: 1.2479\n",
      "Epoch [36/50], Validation Loss: 1.3135\n",
      "Epoch [37/50], Training Loss: 1.2421\n",
      "Epoch [37/50], Validation Loss: 1.3149\n",
      "Epoch [38/50], Training Loss: 1.2394\n",
      "Epoch [38/50], Validation Loss: 1.3118\n",
      "Epoch [39/50], Training Loss: 1.2345\n",
      "Epoch [39/50], Validation Loss: 1.3180\n",
      "Epoch [40/50], Training Loss: 1.2311\n",
      "Epoch [40/50], Validation Loss: 1.3102\n",
      "Epoch [41/50], Training Loss: 1.2267\n",
      "Epoch [41/50], Validation Loss: 1.3062\n",
      "Epoch [42/50], Training Loss: 1.2219\n",
      "Epoch [42/50], Validation Loss: 1.3037\n",
      "Epoch [43/50], Training Loss: 1.2186\n",
      "Epoch [43/50], Validation Loss: 1.3010\n",
      "Epoch [44/50], Training Loss: 1.2155\n",
      "Epoch [44/50], Validation Loss: 1.2946\n",
      "Epoch [45/50], Training Loss: 1.2123\n",
      "Epoch [45/50], Validation Loss: 1.2914\n",
      "Epoch [46/50], Training Loss: 1.2092\n",
      "Epoch [46/50], Validation Loss: 1.2936\n",
      "Epoch [47/50], Training Loss: 1.2085\n",
      "Epoch [47/50], Validation Loss: 1.2929\n",
      "Epoch [48/50], Training Loss: 1.2013\n",
      "Epoch [48/50], Validation Loss: 1.3017\n",
      "Epoch [49/50], Training Loss: 1.2010\n",
      "Epoch [49/50], Validation Loss: 1.2918\n",
      "Epoch [50/50], Training Loss: 1.1976\n",
      "Epoch [50/50], Validation Loss: 1.2908\n"
     ]
    }
   ],
   "source": [
    "# Define training hyper parameters\n",
    "model_save_dir = \"runs\"\n",
    "batch_size = 64\n",
    "num_epochs = 50  \n",
    "learning_rate = 5e-4  \n",
    "model_params = {\n",
    "    \"d_model\": 64,\n",
    "    \"num_attention_heads\": 4,\n",
    "    \"intermediate_size\": 128,\n",
    "    \"num_hidden_layers\": 6,\n",
    "    \"max_position_embeddings\": tokenizer.vocab_size # Do not touch this\n",
    "}\n",
    "\n",
    "# Split dataset into training and validation sets\n",
    "train_size = int(0.8 * len(dataset))\n",
    "val_size = len(dataset) - train_size\n",
    "train_dataset, val_dataset = random_split(dataset, [train_size, val_size])\n",
    "\n",
    "# Create DataLoaders\n",
    "train_loader = DataLoader(\n",
    "    train_dataset, batch_size=batch_size, shuffle=True, collate_fn=collate_fn\n",
    ")\n",
    "val_loader = DataLoader(\n",
    "    val_dataset, batch_size=batch_size, shuffle=False, collate_fn=collate_fn\n",
    ")\n",
    "\n",
    "# Call the train function\n",
    "model = train(\n",
    "    train_loader=train_loader,\n",
    "    val_loader=val_loader,\n",
    "    tokenizer=tokenizer,\n",
    "    num_epochs=num_epochs,\n",
    "    learning_rate=learning_rate,\n",
    "    model_save_dir=model_save_dir,\n",
    "    model_params=model_params,\n",
    "    device=device\n",
    ")\n"
   ]
  },
  {
   "cell_type": "markdown",
   "metadata": {},
   "source": [
    "#### Generate Names\n",
    "Now we are ready to generate new names. Fill the function below and start playing around!"
   ]
  },
  {
   "cell_type": "code",
   "execution_count": 50,
   "metadata": {},
   "outputs": [],
   "source": [
    "def generate_name(\n",
    "    model,\n",
    "    tokenizer,\n",
    "    prefix: str = \"\",\n",
    "    start_token: str = \"-\",\n",
    "    end_token: str = \".\",\n",
    "    max_length: int = 20,\n",
    "    temperature: float = 1.0,\n",
    "    device: torch.device = torch.device(\"cuda\" if torch.cuda.is_available() else \"cpu\")\n",
    ") -> str:\n",
    "    \"\"\"\n",
    "    Generate a new name using the trained model, optionally starting with a given prefix.\n",
    "\n",
    "    Args:\n",
    "        model (nn.Module): The trained Transformer model.\n",
    "        tokenizer (CharTokenizer): The tokenizer.\n",
    "        prefix (str): Optional prefix string to start the name.\n",
    "        start_token (str): The start token character.\n",
    "        end_token (str): The end token character.\n",
    "        max_length (int): Maximum length of the generated name (excluding prefix length).\n",
    "        temperature (float): Sampling temperature. Higher values increase randomness.\n",
    "        device (torch.device): Device to perform computation on.\n",
    "\n",
    "    Returns:\n",
    "        str: The generated name.\n",
    "    \"\"\"\n",
    "    model.eval()\n",
    "    start_token_id = tokenizer.char2idx[start_token]\n",
    "    end_token_id = tokenizer.char2idx[end_token]\n",
    "    vocab_size = getattr(tokenizer, \"vocab_size\", len(getattr(tokenizer, \"idx2char\", [])))\n",
    "\n",
    "    prefix_ids = [tokenizer.char2idx[c] for c in prefix if c in tokenizer.char2idx]\n",
    "\n",
    "    input_ids = torch.tensor([start_token_id] + prefix_ids, dtype=torch.long, device=device).unsqueeze(0)\n",
    "\n",
    "    with torch.no_grad():\n",
    "        for _ in range(max_length):\n",
    "            logits = model(input_ids)  \n",
    "            last_logits = logits[:, -1, :].squeeze(0)\n",
    "\n",
    "            if temperature <= 0:\n",
    "                next_id = int(torch.argmax(last_logits).item())\n",
    "            else:\n",
    "                scaled = last_logits / temperature\n",
    "                k = 10 if vocab_size >= 10 else max(1, vocab_size - 1)\n",
    "                topk_vals, topk_idx = torch.topk(scaled, k)\n",
    "                probs = F.softmax(topk_vals, dim=-1)\n",
    "                sample_idx = torch.multinomial(probs, num_samples=1).item()\n",
    "                next_id = int(topk_idx[sample_idx].item())\n",
    "\n",
    "            if next_id == start_token_id:\n",
    "                sorted_vals, sorted_idx = torch.sort(last_logits, descending=True)\n",
    "                for cand in sorted_idx.tolist():\n",
    "                    if cand != start_token_id:\n",
    "                        next_id = cand\n",
    "                        break\n",
    "\n",
    "            if next_id == end_token_id:\n",
    "                break\n",
    "\n",
    "            next_id_tensor = torch.tensor([[next_id]], dtype=torch.long, device=device)\n",
    "            input_ids = torch.cat([input_ids, next_id_tensor], dim=1)\n",
    "\n",
    "    gen_ids = input_ids.squeeze(0).tolist()\n",
    "    after_prefix = gen_ids[1 + len(prefix_ids):]\n",
    "    chars = []\n",
    "    for idx in after_prefix:\n",
    "        if idx == end_token_id:\n",
    "            break\n",
    "        try:\n",
    "            chars.append(tokenizer.idx2char[idx])\n",
    "        except Exception:\n",
    "            continue\n",
    "\n",
    "    return (prefix or \"\") + \"\".join(chars)\n"
   ]
  },
  {
   "cell_type": "code",
   "execution_count": 51,
   "metadata": {},
   "outputs": [],
   "source": [
    "# Parameters\n",
    "num_names = 5          # Number of names to generate\n",
    "max_length = 20         # Maximum length of each generated name\n",
    "temperature = 1.0       # Sampling temperature \n",
    "start_token = \"-\"       # Start token character (used during training)\n",
    "end_token = \".\"         # End token character (used during training)\n"
   ]
  },
  {
   "cell_type": "code",
   "execution_count": 52,
   "metadata": {},
   "outputs": [
    {
     "name": "stdout",
     "output_type": "stream",
     "text": [
      "Generated Names:\n",
      "\n",
      "guzarinnirenlamet\n",
      "geietsar\n",
      "roa\n",
      "iico esiarauiriema\n",
      "earriao\n"
     ]
    }
   ],
   "source": [
    "# Generate names\n",
    "print(\"Generated Names:\\n\")\n",
    "for _ in range(num_names):\n",
    "    name = generate_name(model=model,\n",
    "        tokenizer=tokenizer,\n",
    "        start_token=start_token,\n",
    "        end_token=end_token,\n",
    "        max_length=max_length,\n",
    "        temperature=temperature,\n",
    "        device=device\n",
    "    )\n",
    "    print(name)\n"
   ]
  },
  {
   "cell_type": "markdown",
   "metadata": {},
   "source": [
    "## Understanding the Temperature Parameter in Language Generation\n",
    "\n",
    "The **temperature** parameter $T$ adjusts the randomness of text generated by language models by scaling the logits (model outputs before softmax).\n",
    "\n",
    "### Mathematical Explanation\n",
    "\n",
    "Given logits $z_i$ for each token $i$, the probability $p_i$ of selecting token $i$ is calculated using the softmax function:\n",
    "\n",
    "\\begin{align*}\n",
    "p_i = \\frac{\\exp\\left(\\frac{z_i}{T}\\right)}{\\sum_{j} \\exp\\left(\\frac{z_j}{T}\\right)}\n",
    "\\end{align*}\n",
    "\n",
    "- *When $T = 1$*: The probabilities remain unchanged.\n",
    "- *When $T < 1$*: The distribution becomes sharper; higher-probability tokens are favored. You should expect names to look more like the \"typical\" names encountered in the dataset.\n",
    "- *When $T > 1$*: The distribution flattens; lower-probability tokens are more likely. You should expect names to look more \"exotic\" or \"creative\", since less probable characters are being sampled to continue the previously generated ones.\n",
    "\n",
    "### Impact on Token Probabilities\n",
    "\n",
    "Suppose we have logits for three tokens:\n",
    "\n",
    "- $z_A$ = 2.0\n",
    "- $z_B$ = 1.0\n",
    "- $z_C$ = 0.5\n",
    "\n",
    "##### At $T = 1.0$:\n",
    "\n",
    "\\begin{align*}\n",
    "p_A &= \\frac{e^{2.0}}{e^{2.0} + e^{1.0} + e^{0.5}} \\approx 0.659\\\\\n",
    "p_B &= \\frac{e^{1.0}}{e^{2.0} + e^{1.0} + e^{0.5}} \\approx 0.242\\\\\n",
    "p_C &= \\frac{e^{0.5}}{e^{2.0} + e^{1.0} + e^{0.5}} \\approx 0.099\n",
    "\\end{align*}\n",
    "\n",
    "##### At $T = 0.5$:\n",
    "\n",
    "\\begin{align*}\n",
    "p_A &= \\frac{e^{2.0 / 0.5}}{e^{2.0 / 0.5} + e^{1.0 / 0.5} + e^{0.5 / 0.5}} = \\frac{e^{4.0}}{e^{4.0} + e^{2.0} + e^{1.0}} \\approx 0.843\\\\\n",
    "p_B &= \\frac{e^{2.0}}{e^{4.0} + e^{2.0} + e^{1.0}} \\approx 0.114\\\\\n",
    "p_C &= \\frac{e^{1.0}}{e^{4.0} + e^{2.0} + e^{1.0}} \\approx 0.043\n",
    "\\end{align*}\n",
    "\n",
    "- **Observation**: Lower $T$ increases the dominance of the highest logit.\n",
    "\n",
    "##### At $T = 1.5$:\n",
    "\n",
    "\\begin{align*}\n",
    "p_A &= \\frac{e^{2.0 / 1.5}}{e^{2.0 / 1.5} + e^{1.0 / 1.5} + e^{0.5 / 1.5}} = \\frac{e^{1.333}}{e^{1.333} + e^{0.667} + e^{0.333}} \\approx 0.490\\\\\n",
    "p_B &= \\frac{e^{0.667}}{e^{1.333} + e^{0.667} + e^{0.333}} \\approx 0.282\\\\\n",
    "p_C &= \\frac{e^{0.333}}{e^{1.333} + e^{0.667} + e^{0.333}} \\approx 0.228\n",
    "\\end{align*}\n",
    "\n",
    "- **Observation**: Higher $T$ increases the probabilities of less likely tokens.\n",
    "\n",
    "### Practical Implications\n",
    "\n",
    "- **Low Temperature ($T < 1$)**:\n",
    "  - **Sharper Distribution**: Model is confident; outputs are more predictable.\n",
    "  - **Use Case**: When coherence is crucial.\n",
    "\n",
    "- **High Temperature ($T > 1$)**:\n",
    "  - **Flatter Distribution**: Model explores more options; outputs are diverse.\n",
    "  - **Use Case**: When creativity is desired.\n",
    "\n"
   ]
  },
  {
   "cell_type": "code",
   "execution_count": 53,
   "metadata": {},
   "outputs": [
    {
     "name": "stdout",
     "output_type": "stream",
     "text": [
      "Generated Names with temperature=1.5:\n",
      "\n",
      "i\n",
      "i\n",
      "rearaaetauar iarrabi\n",
      "geset\n",
      "ranemarsngjretea\n"
     ]
    }
   ],
   "source": [
    "temperature = 1.5  # High randomness\n",
    "print(f\"Generated Names with temperature={temperature}:\\n\")\n",
    "for _ in range(num_names):\n",
    "    name = generate_name(\n",
    "        model=model,\n",
    "        tokenizer=tokenizer,\n",
    "        start_token=start_token,\n",
    "        end_token=end_token,\n",
    "        max_length=max_length,\n",
    "        temperature=temperature,\n",
    "        device=device\n",
    "    )\n",
    "    print(name)\n"
   ]
  },
  {
   "cell_type": "code",
   "execution_count": 54,
   "metadata": {},
   "outputs": [
    {
     "name": "stdout",
     "output_type": "stream",
     "text": [
      "Generated Names with temperature=0.75:\n",
      "\n",
      "sena\n",
      "genar\n",
      "geecor\n",
      "gena eeianereilet\n",
      "genceni\n"
     ]
    }
   ],
   "source": [
    "temperature = 0.75  # Low randomness\n",
    "print(f\"Generated Names with temperature={temperature}:\\n\")\n",
    "for _ in range(num_names):\n",
    "    name = generate_name(\n",
    "        model=model,\n",
    "        tokenizer=tokenizer,\n",
    "        start_token=start_token,\n",
    "        end_token=end_token,\n",
    "        max_length=max_length,\n",
    "        temperature=temperature,\n",
    "        device=device\n",
    "    )\n",
    "    print(name)\n"
   ]
  },
  {
   "cell_type": "code",
   "execution_count": 55,
   "metadata": {},
   "outputs": [
    {
     "name": "stdout",
     "output_type": "stream",
     "text": [
      "Zeir\n",
      "Zgesonia\n",
      "Zetuaniano eiaor\n",
      "Zgenainnirsa\n",
      "Znelet\n"
     ]
    }
   ],
   "source": [
    "temperature = 1.0  # Default randomness\n",
    "prefix = \"Z\"  # Prefix to start the names with\n",
    "for _ in range(num_names):\n",
    "    name = generate_name(\n",
    "        model=model,\n",
    "        tokenizer=tokenizer,\n",
    "        prefix=prefix,\n",
    "        start_token=start_token,\n",
    "        end_token=end_token,\n",
    "        max_length=max_length,\n",
    "        temperature=temperature,\n",
    "        device=device\n",
    "    )\n",
    "    print(name)\n"
   ]
  }
 ],
 "metadata": {
  "kernelspec": {
   "display_name": "Python 3",
   "language": "python",
   "name": "python3"
  },
  "language_info": {
   "codemirror_mode": {
    "name": "ipython",
    "version": 3
   },
   "file_extension": ".py",
   "mimetype": "text/x-python",
   "name": "python",
   "nbconvert_exporter": "python",
   "pygments_lexer": "ipython3",
   "version": "3.12.8"
  }
 },
 "nbformat": 4,
 "nbformat_minor": 2
}
